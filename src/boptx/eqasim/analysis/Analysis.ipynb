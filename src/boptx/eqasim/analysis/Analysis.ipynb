{
 "cells": [
  {
   "cell_type": "code",
   "execution_count": 14,
   "id": "3bec6ca2",
   "metadata": {},
   "outputs": [],
   "source": [
    "import numpy as np\n",
    "import pandas as pd\n",
    "import pickle\n",
    "import matplotlib.pyplot as plt\n",
    "%matplotlib inline"
   ]
  },
  {
   "cell_type": "code",
   "execution_count": 15,
   "id": "1b3006d0",
   "metadata": {},
   "outputs": [],
   "source": [
    "import palettable\n",
    "colors = palettable.colorbrewer.qualitative.Set2_7.mpl_colors"
   ]
  },
  {
   "cell_type": "code",
   "execution_count": 16,
   "id": "ef221c97",
   "metadata": {},
   "outputs": [
    {
     "name": "stdout",
     "output_type": "stream",
     "text": [
      "optimization_idf_ms_base.p                    100%  199KB   4.5MB/s   00:00    \n"
     ]
    }
   ],
   "source": [
    "!scp bullx:/scratch/sebastian.horl/explo/matsim/optimization_idf_ms_base.p optimization_bullx.p"
   ]
  },
  {
   "cell_type": "code",
   "execution_count": 17,
   "id": "e137b2ad",
   "metadata": {},
   "outputs": [],
   "source": [
    "with open(\"optimization_bullx.p\", \"rb\") as f:\n",
    "    data = pickle.load(f)"
   ]
  },
  {
   "cell_type": "code",
   "execution_count": 18,
   "id": "28c096ce",
   "metadata": {},
   "outputs": [
    {
     "ename": "KeyError",
     "evalue": "'objective'",
     "output_type": "error",
     "traceback": [
      "\u001b[0;31m---------------------------------------------------------------------------\u001b[0m",
      "\u001b[0;31mKeyError\u001b[0m                                  Traceback (most recent call last)",
      "\u001b[0;32m/tmp/ipykernel_12534/3394983371.py\u001b[0m in \u001b[0;36m<module>\u001b[0;34m\u001b[0m\n\u001b[1;32m      9\u001b[0m ])\n\u001b[1;32m     10\u001b[0m \u001b[0;34m\u001b[0m\u001b[0m\n\u001b[0;32m---> 11\u001b[0;31m stuck_objectives = np.array([\n\u001b[0m\u001b[1;32m     12\u001b[0m     \u001b[0mevaluation\u001b[0m\u001b[0;34m[\u001b[0m\u001b[0;34m\"information\"\u001b[0m\u001b[0;34m]\u001b[0m\u001b[0;34m[\u001b[0m\u001b[0;34m\"objective\"\u001b[0m\u001b[0;34m]\u001b[0m\u001b[0;34m[\u001b[0m\u001b[0;34m\"components\"\u001b[0m\u001b[0;34m]\u001b[0m\u001b[0;34m[\u001b[0m\u001b[0;34m\"stuck\"\u001b[0m\u001b[0;34m]\u001b[0m\u001b[0;34m[\u001b[0m\u001b[0;34m\"objective\"\u001b[0m\u001b[0;34m]\u001b[0m\u001b[0;34m\u001b[0m\u001b[0;34m\u001b[0m\u001b[0m\n\u001b[1;32m     13\u001b[0m     \u001b[0;32mfor\u001b[0m \u001b[0mevaluation\u001b[0m \u001b[0;32min\u001b[0m \u001b[0mdata\u001b[0m\u001b[0;34m[\u001b[0m\u001b[0;34m\"evaluations\"\u001b[0m\u001b[0;34m]\u001b[0m\u001b[0;34m\u001b[0m\u001b[0;34m\u001b[0m\u001b[0m\n",
      "\u001b[0;32m/tmp/ipykernel_12534/3394983371.py\u001b[0m in \u001b[0;36m<listcomp>\u001b[0;34m(.0)\u001b[0m\n\u001b[1;32m     10\u001b[0m \u001b[0;34m\u001b[0m\u001b[0m\n\u001b[1;32m     11\u001b[0m stuck_objectives = np.array([\n\u001b[0;32m---> 12\u001b[0;31m     \u001b[0mevaluation\u001b[0m\u001b[0;34m[\u001b[0m\u001b[0;34m\"information\"\u001b[0m\u001b[0;34m]\u001b[0m\u001b[0;34m[\u001b[0m\u001b[0;34m\"objective\"\u001b[0m\u001b[0;34m]\u001b[0m\u001b[0;34m[\u001b[0m\u001b[0;34m\"components\"\u001b[0m\u001b[0;34m]\u001b[0m\u001b[0;34m[\u001b[0m\u001b[0;34m\"stuck\"\u001b[0m\u001b[0;34m]\u001b[0m\u001b[0;34m[\u001b[0m\u001b[0;34m\"objective\"\u001b[0m\u001b[0;34m]\u001b[0m\u001b[0;34m\u001b[0m\u001b[0;34m\u001b[0m\u001b[0m\n\u001b[0m\u001b[1;32m     13\u001b[0m     \u001b[0;32mfor\u001b[0m \u001b[0mevaluation\u001b[0m \u001b[0;32min\u001b[0m \u001b[0mdata\u001b[0m\u001b[0;34m[\u001b[0m\u001b[0;34m\"evaluations\"\u001b[0m\u001b[0;34m]\u001b[0m\u001b[0;34m\u001b[0m\u001b[0;34m\u001b[0m\u001b[0m\n\u001b[1;32m     14\u001b[0m ])\n",
      "\u001b[0;31mKeyError\u001b[0m: 'objective'"
     ]
    }
   ],
   "source": [
    "evaluations = np.arange(len(data[\"evaluations\"]))\n",
    "    \n",
    "objectives = np.array([\n",
    "    evaluation[\"objective\"] for evaluation in data[\"evaluations\"]\n",
    "])\n",
    "    \n",
    "values = np.array([\n",
    "    evaluation[\"values\"] for evaluation in data[\"evaluations\"]\n",
    "])\n",
    "\n",
    "stuck_objectives = np.array([\n",
    "    evaluation[\"information\"][\"objective\"][\"components\"][\"stuck\"][\"objective\"]\n",
    "    for evaluation in data[\"evaluations\"]\n",
    "])\n",
    "\n",
    "mode_share_objectives = np.array([\n",
    "    evaluation[\"information\"][\"objective\"][\"components\"][\"mode_share\"][\"objective\"]\n",
    "    for evaluation in data[\"evaluations\"]\n",
    "])"
   ]
  },
  {
   "cell_type": "code",
   "execution_count": null,
   "id": "fcf78cb8",
   "metadata": {},
   "outputs": [],
   "source": [
    "best_indices = [0]\n",
    "\n",
    "for index in range(1, len(objectives)):\n",
    "    if objectives[index] < objectives[best_indices[-1]]:\n",
    "        best_indices.append(index)\n",
    "    else:\n",
    "        best_indices.append(best_indices[-1])\n",
    "        \n",
    "best_objectives = [objectives[i] for i in best_indices]"
   ]
  },
  {
   "cell_type": "code",
   "execution_count": null,
   "id": "2ec7b14a",
   "metadata": {
    "scrolled": false
   },
   "outputs": [],
   "source": [
    "plt.figure(dpi = 120, figsize = (6, 3))\n",
    "\n",
    "lower = np.zeros((len(evaluations),))\n",
    "\n",
    "plt.fill_between(evaluations, lower, lower + mode_share_objectives, color = colors[0], \n",
    "                 label = \"Mode share\", zorder = 2, linewidth = 0.0)\n",
    "lower += mode_share_objectives\n",
    "\n",
    "plt.fill_between(evaluations, lower, lower + stuck_objectives, color = colors[1], \n",
    "                 label = \"Stuck\", zorder = 2, linewidth = 0.0)\n",
    "\n",
    "unique_indices = np.unique(best_indices, return_index = True)[1]\n",
    "plt.plot(evaluations[unique_indices], objectives[unique_indices], \"k\")\n",
    "\n",
    "plt.legend(loc = \"best\")\n",
    "plt.grid(zorder = 0)\n",
    "plt.xlim([0, None])\n",
    "plt.ylim([0, None])\n",
    "\n",
    "plt.xlabel(\"Evaluation\")\n",
    "plt.ylabel(\"Objective\")"
   ]
  },
  {
   "cell_type": "code",
   "execution_count": null,
   "id": "9a637aa3",
   "metadata": {},
   "outputs": [],
   "source": [
    "plt.figure(figsize = (8, 4), dpi = 120)\n",
    "index = np.argmin(objectives)\n",
    "\n",
    "df = data[\"evaluations\"][index][\"information\"][\"objective\"][\"components\"][\"mode_share\"][\"configuration\"][\"data\"]\n",
    "df\n",
    "\n",
    "for k, mode in enumerate(df[\"mode\"].unique()):\n",
    "    df_mode = df[df[\"mode\"] == mode]\n",
    "    \n",
    "    slot = \"bin_index\"\n",
    "    slot = \"upper_bound\"\n",
    "    \n",
    "    plt.plot(df_mode[slot], df_mode[\"simulation_share\"], color = colors[k], label = mode)\n",
    "    plt.plot(df_mode[slot], df_mode[\"reference_share\"], color = colors[k], linestyle = \":\")\n",
    "    \n",
    "plt.legend(loc = \"best\", ncol = 2)\n",
    "plt.grid()\n",
    "plt.ylabel(\"Mode share\")"
   ]
  },
  {
   "cell_type": "code",
   "execution_count": null,
   "id": "f0c69378",
   "metadata": {},
   "outputs": [],
   "source": [
    "plt.figure(figsize = (8, 4), dpi = 120)\n",
    "\n",
    "best_indices = [0]\n",
    "\n",
    "for index in range(1, len(objectives)):\n",
    "    if objectives[index] < objectives[best_indices[-1]]:\n",
    "        best_indices.append(index)\n",
    "    else:\n",
    "        best_indices.append(best_indices[-1])\n",
    "        \n",
    "best_objectives = [objectives[i] for i in best_indices]\n",
    "\n",
    "plt.subplot(1, 2, 1)\n",
    "plt.plot(evaluations, objectives, \"k.\", alpha = 0.25, markersize = 3)\n",
    "plt.plot(evaluations, best_objectives, \"k\")\n",
    "plt.ylim([0, None])\n",
    "plt.xlabel(\"Evaluations\")\n",
    "plt.ylabel(\"Objective\")\n",
    "plt.grid()\n",
    "\n",
    "plt.subplot(1, 2, 2)\n",
    "\n",
    "best_values = np.array([\n",
    "    values[i] for i in best_indices\n",
    "])\n",
    "\n",
    "import palettable\n",
    "colors = palettable.colorbrewer.qualitative.Set2_6.mpl_colors\n",
    "\n",
    "labels = [\"alphaCar\", \"betaCar\", \"alphaBike\", \"alphaWalk\", \"capacity\"]\n",
    "\n",
    "for k in range(values.shape[1]):\n",
    "    plt.plot(values[:,k], \".\", color = colors[k], alpha = 0.5, markersize = 3)\n",
    "    plt.plot(best_values[:,k], color = colors[k], label = labels[k])\n",
    "    \n",
    "plt.grid()\n",
    "plt.xlabel(\"Evaluation\")\n",
    "plt.ylabel(\"Parameter value\")\n",
    "plt.legend(loc = (0,1.05), ncol = 2)\n",
    "\n",
    "#plt.ylim([-2.0, 2.0])\n",
    "\n",
    "plt.tight_layout()\n",
    "plt.savefig(\"example.png\")\n",
    "values.shape"
   ]
  },
  {
   "cell_type": "code",
   "execution_count": null,
   "id": "80f9695e",
   "metadata": {},
   "outputs": [],
   "source": [
    "values[best_indices[-1]]"
   ]
  },
  {
   "cell_type": "code",
   "execution_count": null,
   "id": "4a87004e",
   "metadata": {},
   "outputs": [],
   "source": [
    "values = np.array([\n",
    "    data[\"evaluations\"][k][\"values\"]\n",
    "    for k in range(len(data[\"evaluations\"]))\n",
    "])\n",
    "\n",
    "samples, dimensions = values.shape\n",
    "\n",
    "sorter = np.argsort(objectives)[::-1]\n",
    "sorted_objectives = objectives[sorter]\n",
    "sorted_values = values[sorter]\n",
    "\n",
    "plt.figure(dpi = 120, figsize = (10, 10))\n",
    "norm = plt.Normalize(np.min(objectives), np.max(objectives))\n",
    "\n",
    "for i in range(dimensions):\n",
    "    for j in range(dimensions):\n",
    "        plt.subplot(dimensions, dimensions, i * dimensions + j + 1)\n",
    "        \n",
    "        if i == j:\n",
    "            plt.hist(sorted_values[:,i], bins = 20, zorder = 5, density = True)\n",
    "            \n",
    "        else:\n",
    "            plt.scatter(sorted_values[:,i], sorted_values[:,j], c = sorted_objectives, norm = norm, zorder = 5, cmap = \"Blues_r\", marker = \"x\")\n",
    "            \n",
    "        plt.grid(zorder = 0)\n",
    "        \n",
    "        if i == j:\n",
    "            plt.xlabel(labels[i])\n",
    "            \n",
    "        else:\n",
    "            plt.xlabel(labels[i])\n",
    "            plt.ylabel(labels[j])\n",
    "            \n",
    "plt.tight_layout()"
   ]
  },
  {
   "cell_type": "code",
   "execution_count": null,
   "id": "febc6da8",
   "metadata": {},
   "outputs": [],
   "source": [
    "from sklearn.gaussian_process import GaussianProcessRegressor\n",
    "from sklearn.gaussian_process.kernels import RBF, ConstantKernel\n",
    "import itertools\n",
    "\n",
    "kernel = ConstantKernel() + RBF()\n",
    "model = GaussianProcessRegressor(kernel, normalize_y = True, n_restarts_optimizer = 200)\n",
    "\n",
    "X_samples = values\n",
    "Y_samples = objectives\n",
    "\n",
    "model.fit(X_samples, Y_samples)\n",
    "\n",
    "gridsize = 15\n",
    "\n",
    "X = [\n",
    "    np.linspace(-5, 5, gridsize),\n",
    "    np.linspace(-5, 0, gridsize),\n",
    "    np.linspace(-5, 5, gridsize),\n",
    "    np.linspace(-5, 5, gridsize),\n",
    "    np.linspace(0.1, 2, gridsize),\n",
    "]\n",
    "\n",
    "X_prediction = list(itertools.product(*X))\n",
    "Y_prediction = model.predict(X_prediction).reshape((gridsize, gridsize, gridsize, gridsize, gridsize)).T\n",
    "\n",
    "plt.figure(dpi = 120, figsize = (10, 9))\n",
    "for i in range(dimensions):\n",
    "    for j in range(dimensions):\n",
    "        plt.subplot(dimensions, dimensions, i * dimensions + j + 1)\n",
    "        \n",
    "        if i == j:\n",
    "            axes = list(np.arange(5))\n",
    "            axes.remove(i)\n",
    "\n",
    "            plt.plot(X[i], np.mean(Y_prediction, axis = tuple(axes)), zorder = 5)\n",
    "            \n",
    "            plt.grid(zorder = 0)\n",
    "            \n",
    "        else:\n",
    "            axes = list(np.arange(5))\n",
    "            axes.remove(i)\n",
    "            axes.remove(j)\n",
    "\n",
    "            U, V = np.meshgrid(X[i], X[j])\n",
    "            Z = np.mean(Y_prediction, axis = tuple(axes))\n",
    "\n",
    "            plt.pcolor(U, V, Z, shading = \"auto\", cmap = \"viridis_r\")\n",
    "            #plt.colorbar(ax = plt.gca())\n",
    "        \n",
    "        if i == j:\n",
    "            plt.xlabel(labels[i])\n",
    "            \n",
    "        else:\n",
    "            plt.xlabel(labels[i])\n",
    "            plt.ylabel(labels[j])\n",
    "            \n",
    "plt.tight_layout()"
   ]
  }
 ],
 "metadata": {
  "kernelspec": {
   "display_name": "Python 3 (ipykernel)",
   "language": "python",
   "name": "python3"
  },
  "language_info": {
   "codemirror_mode": {
    "name": "ipython",
    "version": 3
   },
   "file_extension": ".py",
   "mimetype": "text/x-python",
   "name": "python",
   "nbconvert_exporter": "python",
   "pygments_lexer": "ipython3",
   "version": "3.9.7"
  }
 },
 "nbformat": 4,
 "nbformat_minor": 5
}
