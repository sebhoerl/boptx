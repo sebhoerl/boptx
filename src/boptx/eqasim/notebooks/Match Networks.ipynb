{
 "cells": [
  {
   "cell_type": "code",
   "execution_count": 1,
   "id": "a19eca97",
   "metadata": {},
   "outputs": [],
   "source": [
    "import pandas as pd\n",
    "import numpy as np\n",
    "import geopandas as gpd\n",
    "import numpy.linalg as la\n",
    "from tqdm.notebook import tqdm"
   ]
  },
  {
   "cell_type": "code",
   "execution_count": 45,
   "id": "97446afc",
   "metadata": {},
   "outputs": [],
   "source": [
    "input_iris_path = \"../data/raw/iris_2017/CONTOURS-IRIS.shp\"\n",
    "input_reference_path = \"../data/raw/flow/referentiel-comptages-routiers.shp\"\n",
    "input_simulation_path = \"../data/ile_de_france_network.shp\"\n",
    "\n",
    "output_path = \"../data/network_matching.csv\"\n",
    "output_comparison_reference = \"../data/comarison_reference.gpkg\"\n",
    "output_comparison_simulation = \"../data/comarison_simulation.gpkg\"\n",
    "\n",
    "if \"snakemake\" in locals():\n",
    "    input_iris_path = snakemake.input[\"iris\"]\n",
    "    input_reference_path = snakemake.input[\"reference\"]\n",
    "    input_simulation_path = snakemake.input[\"simulation\"]\n",
    "\n",
    "    output_path = snakemake.output[\"matching\"]\n",
    "    \n",
    "    output_comparison_reference = snakemake.output[\"comparison_reference\"] if \"comparison_reference\" in snakemake.output else None\n",
    "    output_comparison_simulation = snakemake.output[\"comparison_simulation\"] if \"comparison_simulation\" in snakemake.output else None"
   ]
  },
  {
   "cell_type": "code",
   "execution_count": 3,
   "id": "4cf3f591",
   "metadata": {},
   "outputs": [],
   "source": [
    "# Obtain shape for Paris to filter out network links\n",
    "df_spatial = gpd.read_file(input_iris_path)\n",
    "df_spatial = df_spatial[df_spatial[\"INSEE_COM\"].str.startswith(\"75\")]\n",
    "df_spatial = df_spatial.dissolve()[[\"geometry\"]]"
   ]
  },
  {
   "cell_type": "code",
   "execution_count": 4,
   "id": "f5da68be",
   "metadata": {},
   "outputs": [],
   "source": [
    "# Load reference link data\n",
    "df_reference = gpd.read_file(input_reference_path)\n",
    "df_reference = df_reference.rename(columns = {\n",
    "    \"iu_ac\": \"reference_id\"\n",
    "})[[\"reference_id\", \"geometry\"]]\n",
    "df_reference = df_reference.to_crs(\"epsg:2154\")"
   ]
  },
  {
   "cell_type": "code",
   "execution_count": 5,
   "id": "fb741013",
   "metadata": {},
   "outputs": [],
   "source": [
    "# Load simulation link data\n",
    "df_simulation = gpd.read_file(input_simulation_path)\n",
    "df_simulation = df_simulation.rename(columns = {\n",
    "    \"link\": \"simulation_id\"\n",
    "})[[\"simulation_id\", \"geometry\", \"osm\"]]"
   ]
  },
  {
   "cell_type": "code",
   "execution_count": 6,
   "id": "1b6c16a5",
   "metadata": {},
   "outputs": [],
   "source": [
    "# Filter links for Paris\n",
    "df_simulation = gpd.sjoin(df_simulation, df_spatial, op = \"within\")"
   ]
  },
  {
   "cell_type": "code",
   "execution_count": 7,
   "id": "b7570482",
   "metadata": {},
   "outputs": [],
   "source": [
    "# Filter for higher order roads\n",
    "df_simulation = df_simulation[\n",
    "    df_simulation[\"osm\"].str.contains(\"motorway\") |\n",
    "    df_simulation[\"osm\"].str.contains(\"trunk\") |\n",
    "    df_simulation[\"osm\"].str.contains(\"primary\") |\n",
    "    df_simulation[\"osm\"].str.contains(\"secondary\") |\n",
    "    df_simulation[\"osm\"].str.contains(\"tertiary\")\n",
    "]\n",
    "\n",
    "df_simulation = df_simulation[[\"simulation_id\", \"geometry\"]]"
   ]
  },
  {
   "cell_type": "code",
   "execution_count": 8,
   "id": "a47dfaee",
   "metadata": {},
   "outputs": [],
   "source": [
    "# Calculate centroids\n",
    "reference_centroids = np.vstack([df_reference[\"geometry\"].centroid.x, df_reference[\"geometry\"].centroid.y]).T\n",
    "simulation_centroids = np.vstack([df_simulation[\"geometry\"].centroid.x, df_simulation[\"geometry\"].centroid.y]).T"
   ]
  },
  {
   "cell_type": "code",
   "execution_count": 9,
   "id": "6e1261c9",
   "metadata": {},
   "outputs": [],
   "source": [
    "# Calculate orientation\n",
    "\n",
    "def angle(geometry):\n",
    "    coordinates = np.array(geometry.xy).T\n",
    "    return np.arctan2(coordinates[-1, 1] - coordinates[0, 1], coordinates[-1, 0] - coordinates[0, 0])\n",
    "    \n",
    "reference_angles = df_reference[\"geometry\"].apply(angle).values\n",
    "simulation_angles = df_simulation[\"geometry\"].apply(angle).values"
   ]
  },
  {
   "cell_type": "code",
   "execution_count": 10,
   "id": "c48fc97b",
   "metadata": {},
   "outputs": [
    {
     "data": {
      "application/vnd.jupyter.widget-view+json": {
       "model_id": "68130b9fc32e42e389d052baf46c2052",
       "version_major": 2,
       "version_minor": 0
      },
      "text/plain": [
       "  0%|          | 0/3739 [00:00<?, ?it/s]"
      ]
     },
     "metadata": {},
     "output_type": "display_data"
    }
   ],
   "source": [
    "# Calculate distances\n",
    "\n",
    "centroid_distances = np.zeros((len(reference_centroids), len(simulation_centroids)))\n",
    "angle_distances = np.zeros((len(reference_centroids), len(simulation_centroids)))\n",
    "\n",
    "for k in tqdm(range(len(reference_centroids))):\n",
    "    centroid_distances[k,:] = la.norm(reference_centroids[k] - simulation_centroids, axis = 1)\n",
    "    angle_distances[k,:] = np.abs(reference_angles[k] - simulation_angles)\n",
    "    \n",
    "angle_distances[angle_distances < 0.0] += 2.0 * np.pi"
   ]
  },
  {
   "cell_type": "code",
   "execution_count": 30,
   "id": "38d56bda",
   "metadata": {},
   "outputs": [],
   "source": [
    "# Scoring\n",
    "alpha = 0.1\n",
    "scores = centroid_distances + alpha * angle_distances"
   ]
  },
  {
   "cell_type": "code",
   "execution_count": 31,
   "id": "8f804e79",
   "metadata": {},
   "outputs": [],
   "source": [
    "# Filtering\n",
    "\n",
    "maximum_distance = 50\n",
    "maximum_angle = 15 * np.pi / 180.0\n",
    "\n",
    "scores[centroid_distances > maximum_distance] = np.inf\n",
    "scores[angle_distances > maximum_angle] = np.inf"
   ]
  },
  {
   "cell_type": "code",
   "execution_count": 32,
   "id": "946611c3",
   "metadata": {},
   "outputs": [],
   "source": [
    "# Matching process\n",
    "matchings = []\n",
    "\n",
    "while np.count_nonzero(np.isfinite(scores)) > 0:\n",
    "    index = np.unravel_index(np.argmin(scores), scores.shape)\n",
    "\n",
    "    scores[index[0], :] = np.inf\n",
    "    scores[:, index[1]] = np.inf\n",
    "\n",
    "    matchings.append(index)\n",
    "    \n",
    "matchings = np.array(matchings)"
   ]
  },
  {
   "cell_type": "code",
   "execution_count": 43,
   "id": "f5ce77b2",
   "metadata": {},
   "outputs": [],
   "source": [
    "df_matching = pd.DataFrame({\n",
    "    \"reference_id\": df_reference.iloc[matchings[:,0]][\"reference_id\"].values,\n",
    "    \"simulation_id\": df_simulation.iloc[matchings[:,1]][\"simulation_id\"].values\n",
    "})\n",
    "\n",
    "df_matching.to_csv(output_path, sep = \";\", index = False)"
   ]
  },
  {
   "cell_type": "code",
   "execution_count": 44,
   "id": "bbc3332a",
   "metadata": {},
   "outputs": [],
   "source": [
    "# Write comparison\n",
    "\n",
    "if not output_comparison_reference is None:\n",
    "    df_comparison = df_reference.copy()\n",
    "    df_comparison = pd.merge(df_comparison, df_matching)\n",
    "    df_comparison.to_file(output_comparison_reference, driver = \"GPKG\")\n",
    "    \n",
    "if not output_comparison_simulation is None:\n",
    "    df_comparison = df_simulation.copy()\n",
    "    df_comparison = pd.merge(df_comparison, df_matching)\n",
    "    df_comparison.to_file(output_comparison_simulation, driver = \"GPKG\")"
   ]
  }
 ],
 "metadata": {
  "kernelspec": {
   "display_name": "Python 3 (ipykernel)",
   "language": "python",
   "name": "python3"
  },
  "language_info": {
   "codemirror_mode": {
    "name": "ipython",
    "version": 3
   },
   "file_extension": ".py",
   "mimetype": "text/x-python",
   "name": "python",
   "nbconvert_exporter": "python",
   "pygments_lexer": "ipython3",
   "version": "3.9.6"
  }
 },
 "nbformat": 4,
 "nbformat_minor": 5
}
