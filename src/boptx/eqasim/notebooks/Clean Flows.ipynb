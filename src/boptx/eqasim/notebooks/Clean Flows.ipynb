{
 "cells": [
  {
   "cell_type": "code",
   "execution_count": 1,
   "id": "6e8d45fd",
   "metadata": {},
   "outputs": [],
   "source": [
    "import pandas as pd\n",
    "import geopandas\n",
    "import zipfile\n",
    "from tqdm.notebook import tqdm"
   ]
  },
  {
   "cell_type": "code",
   "execution_count": 2,
   "id": "1d32e8e2",
   "metadata": {},
   "outputs": [],
   "source": [
    "input_spatial_path = \"../data/raw/flow/referentiel-comptages-routiers.shp\"\n",
    "input_data_path = \"../data/raw/flow/opendata_txt_2019.zip\"\n",
    "\n",
    "daily_output_path = \"../data/daily_unmatched_flow.csv\"\n",
    "hourly_output_path = \"../data/hourly_unmatched_flow.csv\"\n",
    "    \n",
    "if \"snakemake\" in locals():\n",
    "    input_spatial_path = snakemake.input[\"spatial\"]\n",
    "    input_data_path = snakemake.input[\"data\"]\n",
    "\n",
    "    daily_output_path = snakemake.output[\"daily\"]\n",
    "    hourly_output_path = snakemake.output[\"hourly\"]"
   ]
  },
  {
   "cell_type": "code",
   "execution_count": 3,
   "id": "342962d8",
   "metadata": {},
   "outputs": [
    {
     "data": {
      "application/vnd.jupyter.widget-view+json": {
       "model_id": "7050da6f8400463d97bfbff19f92bf2b",
       "version_major": 2,
       "version_minor": 0
      },
      "text/plain": [
       "  0%|          | 0/63 [00:00<?, ?it/s]"
      ]
     },
     "metadata": {},
     "output_type": "display_data"
    }
   ],
   "source": [
    "df_flow = []\n",
    "\n",
    "with zipfile.ZipFile(input_data_path) as archive:\n",
    "    for path in tqdm(archive.namelist()):\n",
    "        df_local = pd.read_csv(archive.open(path), sep = \";\", usecols = [\n",
    "            \"iu_ac\", \"t_1h\", \"q\"\n",
    "        ], dtype = {\n",
    "            \"iu_ac\": int, \"q\": float\n",
    "        })\n",
    "\n",
    "        df_local = df_local.rename(columns = {\n",
    "            \"iu_ac\": \"reference_id\",\n",
    "            \"t_1h\": \"timestamp\",\n",
    "            \"q\": \"flow\"\n",
    "        })\n",
    "\n",
    "        df_local[\"timestamp\"] = pd.to_datetime(df_local[\"timestamp\"])\n",
    "        df_local[\"date\"] = df_local[\"timestamp\"].dt.date\n",
    "        df_local[\"hour\"] = df_local[\"timestamp\"].dt.hour\n",
    "        df_local[\"is_weekend\"] = df_local[\"timestamp\"].dt.weekday >= 5\n",
    "\n",
    "        df_local = df_local[[\"reference_id\", \"date\", \"is_weekend\", \"hour\", \"flow\"]]\n",
    "        df_flow.append(df_local)\n",
    "        \n",
    "df_flow = pd.concat(df_flow)"
   ]
  },
  {
   "cell_type": "code",
   "execution_count": 4,
   "id": "2211c399",
   "metadata": {},
   "outputs": [],
   "source": [
    "# Drop entries with NaN flow\n",
    "df_flow.dropna(inplace = True)"
   ]
  },
  {
   "cell_type": "code",
   "execution_count": 5,
   "id": "53c3d5a8",
   "metadata": {},
   "outputs": [],
   "source": [
    "# Drop weekend\n",
    "df_flow = df_flow[~df_flow[\"is_weekend\"]]\n",
    "df_flow = df_flow.drop(columns = [\"is_weekend\"])"
   ]
  },
  {
   "cell_type": "code",
   "execution_count": 6,
   "id": "e85898ab",
   "metadata": {},
   "outputs": [],
   "source": [
    "# Count how many hours are avaialble for every day and only keep those days where 24h are present\n",
    "df_hours = df_flow.groupby([\"reference_id\", \"date\"]).size().reset_index(name = \"hours\")\n",
    "df_hours = df_hours[df_hours[\"hours\"] == 24]\n",
    "\n",
    "df_flow = pd.merge(df_flow, df_hours, on = [\"reference_id\", \"date\"])\n",
    "df_flow = df_flow.drop(columns = [\"hours\"])"
   ]
  },
  {
   "cell_type": "code",
   "execution_count": 7,
   "id": "37e8db41",
   "metadata": {},
   "outputs": [],
   "source": [
    "# Sum up and then average to get daily values\n",
    "df_daily = df_flow[[\n",
    "    \"reference_id\", \"date\", \"flow\"\n",
    "]].groupby([\"reference_id\", \"date\"]).sum().reset_index()\n",
    "\n",
    "df_daily = df_daily[[\"reference_id\", \"flow\"]].groupby(\"reference_id\").mean().reset_index()"
   ]
  },
  {
   "cell_type": "code",
   "execution_count": 8,
   "id": "db3bef0d",
   "metadata": {},
   "outputs": [],
   "source": [
    "df_daily.to_csv(daily_output_path, sep = \";\", index = False)"
   ]
  },
  {
   "cell_type": "code",
   "execution_count": 9,
   "id": "05465924",
   "metadata": {},
   "outputs": [],
   "source": [
    "# Average by hour to get hourly reference\n",
    "df_hourly = df_flow[[\n",
    "    \"reference_id\", \"hour\", \"flow\"\n",
    "]].groupby([\"reference_id\", \"hour\"]).mean().reset_index()"
   ]
  },
  {
   "cell_type": "code",
   "execution_count": 10,
   "id": "5f06a833",
   "metadata": {},
   "outputs": [],
   "source": [
    "df_hourly.to_csv(hourly_output_path, sep = \";\", index = False)"
   ]
  }
 ],
 "metadata": {
  "kernelspec": {
   "display_name": "Python 3 (ipykernel)",
   "language": "python",
   "name": "python3"
  },
  "language_info": {
   "codemirror_mode": {
    "name": "ipython",
    "version": 3
   },
   "file_extension": ".py",
   "mimetype": "text/x-python",
   "name": "python",
   "nbconvert_exporter": "python",
   "pygments_lexer": "ipython3",
   "version": "3.9.6"
  }
 },
 "nbformat": 4,
 "nbformat_minor": 5
}
