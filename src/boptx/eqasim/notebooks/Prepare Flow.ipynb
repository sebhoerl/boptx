{
 "cells": [
  {
   "cell_type": "code",
   "execution_count": 24,
   "id": "a19eca97",
   "metadata": {},
   "outputs": [],
   "source": [
    "import pandas as pd\n",
    "import numpy as np\n",
    "import geopandas as gpd\n",
    "import numpy.linalg as la\n",
    "from tqdm.notebook import tqdm"
   ]
  },
  {
   "cell_type": "code",
   "execution_count": 25,
   "id": "97446afc",
   "metadata": {},
   "outputs": [],
   "source": [
    "input_matching_path = \"../data/network_matching.csv\"\n",
    "input_hourly_path = \"../data/hourly_unmatched_flow.csv\"\n",
    "input_daily_path = \"../data/daily_unmatched_flow.csv\"\n",
    "\n",
    "output_links_path = \"../data/flow_links.csv\"\n",
    "output_hourly_path = \"../data/hourly_flow.csv\"\n",
    "output_daily_path = \"../data/daily_flow.csv\"\n",
    "\n",
    "if \"snakemake\" in locals():\n",
    "    input_matching_path = snakemake.input[\"matching\"]\n",
    "    input_hourly_path = snakemake.input[\"hourly\"]\n",
    "    input_daily_path = snakemake.input[\"daily\"]\n",
    "\n",
    "    output_links_path = snakemake.output[\"links\"]\n",
    "    output_hourly_path = snakemake.output[\"hourly\"]\n",
    "    output_daily_path = snakemake.output[\"daily\"]"
   ]
  },
  {
   "cell_type": "code",
   "execution_count": 26,
   "id": "7c130afb",
   "metadata": {},
   "outputs": [
    {
     "data": {
      "text/html": [
       "<div>\n",
       "<style scoped>\n",
       "    .dataframe tbody tr th:only-of-type {\n",
       "        vertical-align: middle;\n",
       "    }\n",
       "\n",
       "    .dataframe tbody tr th {\n",
       "        vertical-align: top;\n",
       "    }\n",
       "\n",
       "    .dataframe thead th {\n",
       "        text-align: right;\n",
       "    }\n",
       "</style>\n",
       "<table border=\"1\" class=\"dataframe\">\n",
       "  <thead>\n",
       "    <tr style=\"text-align: right;\">\n",
       "      <th></th>\n",
       "      <th>reference_id</th>\n",
       "      <th>simulation_id</th>\n",
       "    </tr>\n",
       "  </thead>\n",
       "  <tbody>\n",
       "    <tr>\n",
       "      <th>0</th>\n",
       "      <td>5583</td>\n",
       "      <td>140676</td>\n",
       "    </tr>\n",
       "    <tr>\n",
       "      <th>1</th>\n",
       "      <td>6462</td>\n",
       "      <td>2896</td>\n",
       "    </tr>\n",
       "    <tr>\n",
       "      <th>2</th>\n",
       "      <td>5484</td>\n",
       "      <td>63738</td>\n",
       "    </tr>\n",
       "    <tr>\n",
       "      <th>3</th>\n",
       "      <td>926</td>\n",
       "      <td>37424</td>\n",
       "    </tr>\n",
       "    <tr>\n",
       "      <th>4</th>\n",
       "      <td>1441</td>\n",
       "      <td>630247</td>\n",
       "    </tr>\n",
       "    <tr>\n",
       "      <th>...</th>\n",
       "      <td>...</td>\n",
       "      <td>...</td>\n",
       "    </tr>\n",
       "    <tr>\n",
       "      <th>3046</th>\n",
       "      <td>6276</td>\n",
       "      <td>531085</td>\n",
       "    </tr>\n",
       "    <tr>\n",
       "      <th>3047</th>\n",
       "      <td>4664</td>\n",
       "      <td>137318</td>\n",
       "    </tr>\n",
       "    <tr>\n",
       "      <th>3048</th>\n",
       "      <td>4542</td>\n",
       "      <td>447368</td>\n",
       "    </tr>\n",
       "    <tr>\n",
       "      <th>3049</th>\n",
       "      <td>6877</td>\n",
       "      <td>181428</td>\n",
       "    </tr>\n",
       "    <tr>\n",
       "      <th>3050</th>\n",
       "      <td>4566</td>\n",
       "      <td>184284</td>\n",
       "    </tr>\n",
       "  </tbody>\n",
       "</table>\n",
       "<p>3051 rows × 2 columns</p>\n",
       "</div>"
      ],
      "text/plain": [
       "      reference_id  simulation_id\n",
       "0             5583         140676\n",
       "1             6462           2896\n",
       "2             5484          63738\n",
       "3              926          37424\n",
       "4             1441         630247\n",
       "...            ...            ...\n",
       "3046          6276         531085\n",
       "3047          4664         137318\n",
       "3048          4542         447368\n",
       "3049          6877         181428\n",
       "3050          4566         184284\n",
       "\n",
       "[3051 rows x 2 columns]"
      ]
     },
     "execution_count": 26,
     "metadata": {},
     "output_type": "execute_result"
    }
   ],
   "source": [
    "df_matching = pd.read_csv(input_matching_path, sep = \";\")\n",
    "df_matching"
   ]
  },
  {
   "cell_type": "code",
   "execution_count": 27,
   "id": "c1e6c280",
   "metadata": {},
   "outputs": [],
   "source": [
    "df_daily = pd.read_csv(input_daily_path, sep = \";\")\n",
    "df_daily = pd.merge(df_daily, df_matching, on = \"reference_id\")\n",
    "df_daily = df_daily.rename(columns = {\n",
    "    \"simulation_id\": \"link_id\"\n",
    "})\n",
    "df_daily[[\n",
    "    \"link_id\", \"flow\"\n",
    "]].to_csv(output_daily_path, sep = \";\", index = False)"
   ]
  },
  {
   "cell_type": "code",
   "execution_count": 28,
   "id": "18483afd",
   "metadata": {},
   "outputs": [],
   "source": [
    "df_hourly = pd.read_csv(input_hourly_path, sep = \";\")\n",
    "df_hourly = pd.merge(df_hourly, df_matching, on = \"reference_id\")\n",
    "df_hourly = df_hourly.rename(columns = {\n",
    "    \"simulation_id\": \"link_id\"\n",
    "})\n",
    "df_hourly[[\n",
    "    \"link_id\", \"flow\", \"hour\"\n",
    "]].to_csv(output_hourly_path, sep = \";\", index = False)"
   ]
  },
  {
   "cell_type": "code",
   "execution_count": 29,
   "id": "039e8998",
   "metadata": {},
   "outputs": [],
   "source": [
    "df_links = df_matching.rename(columns = {\n",
    "    \"simulation_id\": \"link_id\"\n",
    "})\n",
    "\n",
    "df_links[[\n",
    "    \"link_id\"\n",
    "]].to_csv(output_links_path, sep = \";\", index = False)"
   ]
  }
 ],
 "metadata": {
  "kernelspec": {
   "display_name": "Python 3 (ipykernel)",
   "language": "python",
   "name": "python3"
  },
  "language_info": {
   "codemirror_mode": {
    "name": "ipython",
    "version": 3
   },
   "file_extension": ".py",
   "mimetype": "text/x-python",
   "name": "python",
   "nbconvert_exporter": "python",
   "pygments_lexer": "ipython3",
   "version": "3.9.6"
  }
 },
 "nbformat": 4,
 "nbformat_minor": 5
}
