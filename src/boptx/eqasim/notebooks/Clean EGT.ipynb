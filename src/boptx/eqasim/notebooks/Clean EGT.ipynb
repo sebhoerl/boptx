{
 "cells": [
  {
   "cell_type": "code",
   "execution_count": 62,
   "id": "a19eca97",
   "metadata": {},
   "outputs": [],
   "source": [
    "import pandas as pd\n",
    "import numpy as np\n",
    "import geopandas as gpd\n",
    "import numpy.linalg as la\n",
    "from tqdm.notebook import tqdm"
   ]
  },
  {
   "cell_type": "code",
   "execution_count": 63,
   "id": "871eee6d",
   "metadata": {},
   "outputs": [],
   "source": [
    "input_person_path = \"../data/raw/egt_2010/Personnes_semaine.csv\"\n",
    "input_trip_path = \"../data/raw/egt_2010/Deplacements_semaine.csv\"\n",
    "output_path = \"../data/egt_trips.csv\"\n",
    "\n",
    "if \"snakemake\" in locals():\n",
    "    input_person_path = snakemake.input[\"persons\"]\n",
    "    input_trip_path = snakemake.input[\"trips\"]\n",
    "    output_path = snakemake.output[0]"
   ]
  },
  {
   "cell_type": "code",
   "execution_count": 64,
   "id": "991d70cd",
   "metadata": {},
   "outputs": [],
   "source": [
    "MODES_MAP = {\n",
    "    1 : \"pt\",\n",
    "    2 : \"car\",\n",
    "    3 : \"car_passenger\",\n",
    "    4 : \"car\",\n",
    "    5 : \"bike\",\n",
    "    #6 : \"pt\", # default (other)\n",
    "    7 : \"walk\"\n",
    "}"
   ]
  },
  {
   "cell_type": "code",
   "execution_count": 65,
   "id": "19df73f6",
   "metadata": {},
   "outputs": [],
   "source": [
    "df_persons = pd.read_csv(\n",
    "    input_person_path,\n",
    "    sep = \",\", encoding = \"latin1\", usecols = [\n",
    "        \"RESDEP\", \"NP\", \"POIDSP\", \"NQUEST\", \"SEXE\", \"AGE\", \"PERMVP\",\n",
    "        \"ABONTC\", \"OCCP\", \"PERM2RM\", \"NBDEPL\", \"CS8\"\n",
    "    ]\n",
    ")\n",
    "\n",
    "df_trips = pd.read_csv(\n",
    "    input_trip_path,\n",
    "    sep = \",\", encoding = \"latin1\", usecols = [\n",
    "        \"NQUEST\", \"NP\", \"ND\",\n",
    "        \"ORDEP\", \"DESTDEP\", \"ORH\", \"DESTH\", \"ORM\", \"DESTM\", \"ORCOMM\", \"DESTCOMM\",\n",
    "        \"DPORTEE\", \"MODP_H7\", \"DESTMOT_H9\", \"ORMOT_H9\"\n",
    "    ]\n",
    ")"
   ]
  },
  {
   "cell_type": "code",
   "execution_count": 66,
   "id": "634fe58c",
   "metadata": {},
   "outputs": [],
   "source": [
    "# Convert IDs\n",
    "df_persons[\"person_id\"] = df_persons[\"NP\"].astype(int)\n",
    "df_trips[\"person_id\"] = df_trips[\"NP\"].astype(int)\n",
    "df_persons[\"household_id\"] = df_persons[\"NQUEST\"].astype(int)\n",
    "df_trips[\"household_id\"] = df_trips[\"NQUEST\"].astype(int)\n",
    "\n",
    "# Weight\n",
    "df_persons[\"weight\"] = df_persons[\"POIDSP\"].astype(float)"
   ]
  },
  {
   "cell_type": "code",
   "execution_count": 67,
   "id": "87ccc49c",
   "metadata": {},
   "outputs": [],
   "source": [
    "# Trip mode\n",
    "df_trips[\"mode\"] = \"pt\"\n",
    "\n",
    "for category, mode in MODES_MAP.items():\n",
    "    df_trips.loc[df_trips[\"MODP_H7\"] == category, \"mode\"] = mode"
   ]
  },
  {
   "cell_type": "code",
   "execution_count": 68,
   "id": "d41c943c",
   "metadata": {},
   "outputs": [],
   "source": [
    "# Departments\n",
    "df_trips[\"origin_departement_id\"] = df_trips[\"ORDEP\"].astype(str)\n",
    "df_trips[\"destination_departement_id\"] = df_trips[\"DESTDEP\"].astype(str)"
   ]
  },
  {
   "cell_type": "code",
   "execution_count": 69,
   "id": "df032154",
   "metadata": {},
   "outputs": [],
   "source": [
    "# Further trip attributes\n",
    "df_trips[\"euclidean_distance\"] = df_trips[\"DPORTEE\"] * 1000.0"
   ]
  },
  {
   "cell_type": "code",
   "execution_count": 70,
   "id": "46dd483d",
   "metadata": {},
   "outputs": [],
   "source": [
    "# Filter for trips within the region\n",
    "requested_departments = [\n",
    "    \"75\", \"92\", \"94\", \"91\", \"93\", \"77\", \"95\", \"78\"\n",
    "]\n",
    "\n",
    "df_trips = df_trips[\n",
    "    df_trips[\"origin_departement_id\"].astype(str).isin(requested_departments) &\n",
    "    df_trips[\"destination_departement_id\"].astype(str).isin(requested_departments)\n",
    "]"
   ]
  },
  {
   "cell_type": "code",
   "execution_count": 71,
   "id": "d1eeea22",
   "metadata": {},
   "outputs": [],
   "source": [
    "df_trips[\"urban_origin\"] = df_trips[\"origin_departement_id\"].astype(str) == \"75\"\n",
    "df_trips[\"urban_destination\"] = df_trips[\"destination_departement_id\"].astype(str) == \"75\""
   ]
  },
  {
   "cell_type": "code",
   "execution_count": 72,
   "id": "feee2463",
   "metadata": {},
   "outputs": [],
   "source": [
    "df_trips = df_trips[[\n",
    "    \"person_id\", \"household_id\", \"mode\", \"euclidean_distance\", \"urban_origin\", \"urban_destination\"\n",
    "]]"
   ]
  },
  {
   "cell_type": "code",
   "execution_count": 73,
   "id": "35c13a38",
   "metadata": {},
   "outputs": [],
   "source": [
    "# Merge in weight\n",
    "df_persons = df_persons[[\"person_id\", \"household_id\", \"weight\"]]\n",
    "df_trips = pd.merge(df_trips, df_persons, on = [\"person_id\", \"household_id\"])"
   ]
  },
  {
   "cell_type": "code",
   "execution_count": 74,
   "id": "d19b04bc",
   "metadata": {},
   "outputs": [],
   "source": [
    "df_trips[[\n",
    "    \"mode\", \"weight\", \"euclidean_distance\", \"urban_origin\", \"urban_destination\"\n",
    "]].to_csv(output_path, sep = \";\")"
   ]
  }
 ],
 "metadata": {
  "kernelspec": {
   "display_name": "Python 3 (ipykernel)",
   "language": "python",
   "name": "python3"
  },
  "language_info": {
   "codemirror_mode": {
    "name": "ipython",
    "version": 3
   },
   "file_extension": ".py",
   "mimetype": "text/x-python",
   "name": "python",
   "nbconvert_exporter": "python",
   "pygments_lexer": "ipython3",
   "version": "3.9.6"
  }
 },
 "nbformat": 4,
 "nbformat_minor": 5
}
