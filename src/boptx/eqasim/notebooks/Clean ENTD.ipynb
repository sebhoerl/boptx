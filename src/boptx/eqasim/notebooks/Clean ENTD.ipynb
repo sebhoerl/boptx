{
 "cells": [
  {
   "cell_type": "code",
   "execution_count": 44,
   "id": "a19eca97",
   "metadata": {},
   "outputs": [],
   "source": [
    "import pandas as pd\n",
    "import numpy as np\n",
    "import geopandas as gpd\n",
    "import numpy.linalg as la\n",
    "from tqdm.notebook import tqdm"
   ]
  },
  {
   "cell_type": "code",
   "execution_count": 45,
   "id": "97446afc",
   "metadata": {},
   "outputs": [],
   "source": [
    "input_path = \"../data/raw/entd_2008/K_deploc.csv\"\n",
    "output_path = \"../data/entd_trips.csv\"\n",
    "\n",
    "if \"snakemake\" in locals():\n",
    "    input_path = snakemake.input[0]\n",
    "    output_path = snakemake.output[0]"
   ]
  },
  {
   "cell_type": "code",
   "execution_count": 46,
   "id": "991d70cd",
   "metadata": {},
   "outputs": [],
   "source": [
    "MODES_MAP = [\n",
    "    (\"1\", \"walk\"),\n",
    "    (\"2\", \"car\"), #\n",
    "    (\"2.20\", \"bike\"), # bike\n",
    "    (\"2.23\", \"car_passenger\"), # motorcycle passenger\n",
    "    (\"2.25\", \"car_passenger\"), # same\n",
    "    (\"3\", \"car\"),\n",
    "    (\"3.32\", \"car_passenger\"),\n",
    "    (\"4\", \"pt\"), # taxi\n",
    "    (\"5\", \"pt\"),\n",
    "    (\"6\", \"pt\"),\n",
    "    (\"7\", \"pt\"), # Plane\n",
    "    (\"8\", \"pt\"), # Boat\n",
    "#    (\"9\", \"pt\") # Other\n",
    "]"
   ]
  },
  {
   "cell_type": "code",
   "execution_count": 47,
   "id": "6db149b7",
   "metadata": {},
   "outputs": [],
   "source": [
    "df_trips = pd.read_csv(input_path, sep = \";\", encoding = \"latin1\", usecols = [\n",
    "    #\"IDENT_IND\", \"V2_MMOTIFDES\", \"V2_MMOTIFORI\",\n",
    "    \"V2_TYPJOUR\", # \"V2_MORIHDEP\", \"V2_MDESHARR\", \n",
    "    \"V2_MDISTTOT\",\n",
    "    \"IDENT_JOUR\", \"V2_MTP\", \"V2_MDESDEP\", \"V2_MORIDEP\", # \"NDEP\", \"V2_MOBILREF\",\n",
    "    \"PONDKI\"\n",
    "])"
   ]
  },
  {
   "cell_type": "code",
   "execution_count": 48,
   "id": "bbf787a6",
   "metadata": {},
   "outputs": [],
   "source": [
    "# Clean departement\n",
    "df_trips[\"origin_departement_id\"] = df_trips[\"V2_MORIDEP\"].fillna(\"undefined\").astype(\"category\")\n",
    "df_trips[\"destination_departement_id\"] = df_trips[\"V2_MDESDEP\"].fillna(\"undefined\").astype(\"category\")"
   ]
  },
  {
   "cell_type": "code",
   "execution_count": 49,
   "id": "587da0c9",
   "metadata": {},
   "outputs": [],
   "source": [
    "# Trip mode\n",
    "df_trips[\"mode\"] = \"pt\"\n",
    "\n",
    "for prefix, mode in MODES_MAP:\n",
    "    df_trips.loc[\n",
    "        df_trips[\"V2_MTP\"].astype(str).str.startswith(prefix), \"mode\"\n",
    "    ] = mode"
   ]
  },
  {
   "cell_type": "code",
   "execution_count": 50,
   "id": "41984b8d",
   "metadata": {},
   "outputs": [],
   "source": [
    "# Further trip attributes\n",
    "df_trips[\"routed_distance\"] = df_trips[\"V2_MDISTTOT\"] * 1000.0\n",
    "df_trips[\"routed_distance\"] = df_trips[\"routed_distance\"].fillna(0.0) # This should be just one within Île-de-France"
   ]
  },
  {
   "cell_type": "code",
   "execution_count": 51,
   "id": "3017f35b",
   "metadata": {},
   "outputs": [],
   "source": [
    "# Only leave weekday trips\n",
    "df_trips = df_trips[df_trips[\"V2_TYPJOUR\"] == 1]"
   ]
  },
  {
   "cell_type": "code",
   "execution_count": 52,
   "id": "cd4768b3",
   "metadata": {},
   "outputs": [],
   "source": [
    "# Add weight to trips\n",
    "df_trips[\"weight\"] = df_trips[\"PONDKI\"]"
   ]
  },
  {
   "cell_type": "code",
   "execution_count": 53,
   "id": "265a531f",
   "metadata": {},
   "outputs": [],
   "source": [
    "# Filter for trips within the region\n",
    "requested_departments = [\n",
    "    \"75\", \"92\", \"94\", \"91\", \"93\", \"77\", \"95\", \"78\"\n",
    "]\n",
    "\n",
    "df_trips = df_trips[\n",
    "    df_trips[\"origin_departement_id\"].astype(str).isin(requested_departments) &\n",
    "    df_trips[\"destination_departement_id\"].astype(str).isin(requested_departments)\n",
    "]"
   ]
  },
  {
   "cell_type": "code",
   "execution_count": 54,
   "id": "5d7965f6",
   "metadata": {},
   "outputs": [],
   "source": [
    "df_trips[\"urban_origin\"] = df_trips[\"origin_departement_id\"].str == \"75\"\n",
    "df_trips[\"urban_destination\"] = df_trips[\"destination_departement_id\"].str == \"75\""
   ]
  },
  {
   "cell_type": "code",
   "execution_count": 55,
   "id": "6e3601ef",
   "metadata": {},
   "outputs": [],
   "source": [
    "df_trips[[\n",
    "    \"mode\", \"weight\", \"routed_distance\", \"urban_origin\", \"urban_destination\"\n",
    "]].to_csv(output_path, sep = \";\")"
   ]
  }
 ],
 "metadata": {
  "kernelspec": {
   "display_name": "Python 3 (ipykernel)",
   "language": "python",
   "name": "python3"
  },
  "language_info": {
   "codemirror_mode": {
    "name": "ipython",
    "version": 3
   },
   "file_extension": ".py",
   "mimetype": "text/x-python",
   "name": "python",
   "nbconvert_exporter": "python",
   "pygments_lexer": "ipython3",
   "version": "3.9.6"
  }
 },
 "nbformat": 4,
 "nbformat_minor": 5
}
