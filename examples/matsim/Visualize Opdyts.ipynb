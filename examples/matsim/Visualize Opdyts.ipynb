{
 "cells": [
  {
   "cell_type": "code",
   "execution_count": 1,
   "id": "19210715",
   "metadata": {},
   "outputs": [
    {
     "ename": "ModuleNotFoundError",
     "evalue": "No module named 'pandas'",
     "output_type": "error",
     "traceback": [
      "\u001b[0;31m---------------------------------------------------------------------------\u001b[0m",
      "\u001b[0;31mModuleNotFoundError\u001b[0m                       Traceback (most recent call last)",
      "\u001b[0;32m<ipython-input-1-36d4553c98fe>\u001b[0m in \u001b[0;36m<module>\u001b[0;34m\u001b[0m\n\u001b[1;32m      1\u001b[0m \u001b[0;32mimport\u001b[0m \u001b[0mnumpy\u001b[0m \u001b[0;32mas\u001b[0m \u001b[0mnp\u001b[0m\u001b[0;34m\u001b[0m\u001b[0;34m\u001b[0m\u001b[0m\n\u001b[0;32m----> 2\u001b[0;31m \u001b[0;32mimport\u001b[0m \u001b[0mpandas\u001b[0m \u001b[0;32mas\u001b[0m \u001b[0mpd\u001b[0m\u001b[0;34m\u001b[0m\u001b[0;34m\u001b[0m\u001b[0m\n\u001b[0m\u001b[1;32m      3\u001b[0m \u001b[0;32mimport\u001b[0m \u001b[0mmatplotlib\u001b[0m\u001b[0;34m.\u001b[0m\u001b[0mpyplot\u001b[0m \u001b[0;32mas\u001b[0m \u001b[0mplt\u001b[0m\u001b[0;34m\u001b[0m\u001b[0;34m\u001b[0m\u001b[0m\n\u001b[1;32m      4\u001b[0m \u001b[0;32mimport\u001b[0m \u001b[0mpickle\u001b[0m\u001b[0;34m\u001b[0m\u001b[0;34m\u001b[0m\u001b[0m\n\u001b[1;32m      5\u001b[0m \u001b[0mget_ipython\u001b[0m\u001b[0;34m(\u001b[0m\u001b[0;34m)\u001b[0m\u001b[0;34m.\u001b[0m\u001b[0mrun_line_magic\u001b[0m\u001b[0;34m(\u001b[0m\u001b[0;34m'matplotlib'\u001b[0m\u001b[0;34m,\u001b[0m \u001b[0;34m'inline'\u001b[0m\u001b[0;34m)\u001b[0m\u001b[0;34m\u001b[0m\u001b[0;34m\u001b[0m\u001b[0m\n",
      "\u001b[0;31mModuleNotFoundError\u001b[0m: No module named 'pandas'"
     ]
    }
   ],
   "source": [
    "import numpy as np\n",
    "import pandas as pd\n",
    "import matplotlib.pyplot as plt\n",
    "import pickle\n",
    "%matplotlib inline"
   ]
  },
  {
   "cell_type": "code",
   "execution_count": null,
   "id": "8c8b9d36",
   "metadata": {},
   "outputs": [],
   "source": [
    "!scp hcm:/home/sebastian/work/boptx/examples/matsim/calibration_opdyts.p ."
   ]
  },
  {
   "cell_type": "code",
   "execution_count": null,
   "id": "04395c47",
   "metadata": {},
   "outputs": [],
   "source": [
    "with open(\"calibration_opdyts.p\", \"rb\") as f:\n",
    "    data = pickle.load(f)"
   ]
  },
  {
   "cell_type": "code",
   "execution_count": null,
   "id": "84cf1cb3",
   "metadata": {},
   "outputs": [],
   "source": [
    "len(data[\"evaluations\"])"
   ]
  },
  {
   "cell_type": "code",
   "execution_count": null,
   "id": "e9535c56",
   "metadata": {},
   "outputs": [],
   "source": [
    "for e in data[\"evaluations\"]:\n",
    "    info = e[\"information\"][\"opdyts\"]\n",
    "    \n",
    "    print(\n",
    "        info[\"type\"],\n",
    "        info[\"candidate\"] if \"candidate\" in info else \"-\",\n",
    "        e[\"transitional\"], e[\"values\"]\n",
    "    )"
   ]
  },
  {
   "cell_type": "code",
   "execution_count": null,
   "id": "6900ac54",
   "metadata": {},
   "outputs": [],
   "source": [
    "plt.plot([\n",
    "    \"equilibrium_gap\" in e[\"information\"][\"opdyts\"] and e[\"information\"][\"opdyts\"][\"equilibrium_gap\"]\n",
    "    for e in data[\"evaluations\"]\n",
    "])"
   ]
  },
  {
   "cell_type": "code",
   "execution_count": null,
   "id": "77e9fdc1",
   "metadata": {},
   "outputs": [],
   "source": [
    "plt.plot([\n",
    "    \"uniformity_gap\" in e[\"information\"][\"opdyts\"] and e[\"information\"][\"opdyts\"][\"uniformity_gap\"]\n",
    "    for e in data[\"evaluations\"]\n",
    "])"
   ]
  },
  {
   "cell_type": "code",
   "execution_count": null,
   "id": "436ad869",
   "metadata": {},
   "outputs": [],
   "source": [
    "[\n",
    "        e for e in data[\"evaluations\"]\n",
    "        if \"candidate\" in e[\"information\"][\"opdyts\"] and e[\"information\"][\"opdyts\"][\"candidate\"] == candidate\n",
    "    ]"
   ]
  },
  {
   "cell_type": "code",
   "execution_count": null,
   "id": "63ef3cf1",
   "metadata": {},
   "outputs": [],
   "source": [
    "for candidate in [0, 1, 2, 3]:\n",
    "    transitions = np.array([\n",
    "        0.0 if e[\"information\"][\"opdyts\"][\"type\"] == \"candidate\" else e[\"information\"][\"opdyts\"][\"transition\"]\n",
    "        for e in data[\"evaluations\"]\n",
    "        if \"candidate\" in e[\"information\"][\"opdyts\"] and e[\"information\"][\"opdyts\"][\"candidate\"] == candidate\n",
    "    ])\n",
    "    \n",
    "    iterations = np.array([\n",
    "        e[\"information\"][\"opdyts\"][\"iteration\"]\n",
    "        for e in data[\"evaluations\"]\n",
    "        if \"candidate\" in e[\"information\"][\"opdyts\"] and e[\"information\"][\"opdyts\"][\"candidate\"] == candidate\n",
    "    ])\n",
    "    \n",
    "    f = np.array([\n",
    "        \"candidate\" in e[\"information\"][\"opdyts\"] and e[\"information\"][\"opdyts\"][\"candidate\"] == candidate\n",
    "        for e in data[\"evaluations\"]\n",
    "    ])\n",
    "    \n",
    "    evaluations = np.arange(len(f))[f]\n",
    "    \n",
    "    objectives = [\n",
    "        e[\"objective\"] for e in data[\"evaluations\"]\n",
    "        if \"candidate\" in e[\"information\"][\"opdyts\"] and e[\"information\"][\"opdyts\"][\"candidate\"] == candidate\n",
    "    ]\n",
    "\n",
    "    #plt.plot(iterations * 50 + transitions, objectives, label = str(candidate), marker = \".\", linestyle = \"none\")\n",
    "    plt.plot(evaluations, objectives, label = str(candidate), marker = \".\", linestyle = \"none\")\n",
    "    \n",
    "plt.legend(loc = \"best\")"
   ]
  },
  {
   "cell_type": "code",
   "execution_count": null,
   "id": "9e339a47",
   "metadata": {},
   "outputs": [],
   "source": [
    "for evaluation in data[\"evaluations\"]:\n",
    "    if not evaluation[\"transitional\"]:\n",
    "        print(evaluation[\"information\"][\"opdyts\"].keys())\n",
    "        print(evaluation[\"information\"][\"opdyts\"][\"candidate\"])"
   ]
  },
  {
   "cell_type": "code",
   "execution_count": null,
   "id": "e46d3ce9",
   "metadata": {},
   "outputs": [],
   "source": [
    "objectives = [\n",
    "    evaluation[\"objective\"] for evaluation in data[\"evaluations\"]\n",
    "]\n",
    "\n",
    "plt.plot(objectives)"
   ]
  },
  {
   "cell_type": "code",
   "execution_count": null,
   "id": "8bafcbf8",
   "metadata": {},
   "outputs": [],
   "source": [
    "!scp hcm:/home/sebastian/work/boptx/examples/matsim/working_directory/220d9277677dcab75d059fedec77b3d3/output/boptx_termination.csv ."
   ]
  },
  {
   "cell_type": "code",
   "execution_count": null,
   "id": "e77edef2",
   "metadata": {},
   "outputs": [],
   "source": [
    "df = pd.read_csv(\"boptx_termination.csv\", sep = \";\")"
   ]
  },
  {
   "cell_type": "code",
   "execution_count": null,
   "id": "dd6c1214",
   "metadata": {
    "scrolled": false
   },
   "outputs": [],
   "source": [
    "for mode in [\"car\", \"pt\", \"bicycle\", \"walk\"]:\n",
    "    plt.figure(figsize = (6, 3), dpi = 120)\n",
    "\n",
    "    plt.subplot(1, 2, 1)\n",
    "    plt.plot(df[\"iteration\"], df[\"{}_y\".format(mode)], \"C0\")\n",
    "    plt.plot(df[\"iteration\"], df[\"{}_s\".format(mode)], \"k\")\n",
    "    plt.title(mode)\n",
    "    plt.xlabel(\"Iteration\")\n",
    "    plt.ylabel(\"Mode share\")\n",
    "    plt.grid()\n",
    "\n",
    "    plt.subplot(1, 2, 2)\n",
    "    plt.plot(df[\"iteration\"], df[\"{}_dm\".format(mode)], \"k\")\n",
    "    plt.plot(df[\"iteration\"], df[\"{}_d\".format(mode)], \"k\")\n",
    "    plt.plot(df[\"iteration\"], df[\"{}_dp\".format(mode)], \"k\")\n",
    "\n",
    "    plt.plot(df[\"iteration\"], df[\"T\"], \"k--\")\n",
    "    plt.plot(df[\"iteration\"], -df[\"T\"], \"k--\")\n",
    "    plt.xlabel(\"Iteration\")\n",
    "    plt.ylabel(\"Criterion\")\n",
    "    plt.grid()\n",
    "\n",
    "    plt.tight_layout()"
   ]
  },
  {
   "cell_type": "code",
   "execution_count": null,
   "id": "6d361038",
   "metadata": {},
   "outputs": [],
   "source": [
    "plt.figure(figsize = (6, 3), dpi = 120)\n",
    "\n",
    "for mode in [\"car\", \"pt\", \"bicycle\", \"walk\"]:\n",
    "    plt.plot(df[\"iteration\"], df[\"{}_y\".format(mode)], label = mode)\n",
    "    \n",
    "plt.xlabel(\"Iteration\")\n",
    "plt.ylabel(\"Mode share\")\n",
    "plt.grid()\n",
    "plt.legend(loc = \"best\")\n",
    "\n",
    "plt.tight_layout()"
   ]
  }
 ],
 "metadata": {
  "kernelspec": {
   "display_name": "Python 3",
   "language": "python",
   "name": "python3"
  },
  "language_info": {
   "codemirror_mode": {
    "name": "ipython",
    "version": 3
   },
   "file_extension": ".py",
   "mimetype": "text/x-python",
   "name": "python",
   "nbconvert_exporter": "python",
   "pygments_lexer": "ipython3",
   "version": "3.8.10"
  }
 },
 "nbformat": 4,
 "nbformat_minor": 5
}
